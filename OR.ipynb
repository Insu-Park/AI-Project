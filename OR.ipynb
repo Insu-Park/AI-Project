'''

�ΰ����� 

Multi-Layer perceptron ����

����ø����б� ��ǻ�Ͱ��к� 2014920017 ���μ�

AND, OR, XOR �� �׷��� ����

OR GATE ����

'''

import tensorflow as tf
import numpy as np
from numpy import *
from numpy.random import multivariate_normal
import matplotlib.pyplot as plt
import pandas as pd
from pandas import Series, DataFrame

# Hidden Layer ���� �������� ����
# Optimizer = Adam

x = tf.placeholder(tf.float32, [None, 2])
w = tf.Variable(tf.zeros([2,1]))
w0 = tf.Variable(tf.zeros([1]))
y = tf.sigmoid(tf.matmul(x,w) + w0)
t = tf.placeholder(tf.float32, [None, 1])
loss = tf.reduce_sum(tf.square(y-t))
train_step = tf.train.AdamOptimizer().minimize(loss)

sess = tf.Session()
sess.run(tf.global_variables_initializer())

# 50���� ���� �����ͷ� �н�, �󸶳� ��Ȯ�ϰ� �н��ϴ��� Ȯ���ϱ� ���� �õ�� ��������
train_x = np.zeros([50,2])
train_t = np.zeros([50,1])
for row in range(0, 50):
  for col in range(0,2):
    train_x[row][col] = np.random.randint(2)
    # ���� �����Ϳ� ���� target ����
    if((train_x[row][0] == 0 and train_x[row][1] == 0)):
      train_t[row][0] = 0
    else:
      train_t[row][0] = 1


# Iteration Graph ����
fig1 = plt.figure(figsize=(8,8))
iter_subplot = fig1.add_subplot(1, 1, 1)
loss_valarr = []

# Learning Graph ����
fig2 = plt.figure(figsize=(8,8))
learning_subplot = fig2.add_subplot(1, 1, 1)
learning_subplot.set_xlim(-0.2, 1.2)
learning_subplot.set_ylim(-0.2, 1.2)
linex = np.linspace(-0.2,1.2, 400)

i = 0
for _ in range(10000):
  i+= 1
  sess.run(train_step, feed_dict={x:train_x, t:train_t})
  loss_val = sess.run(loss, feed_dict={x:train_x, t:train_t})
  # ������ ������ loss�� �迭�� ����
  loss_valarr.append(loss_val)
  if i% 2000 == 0:    
    print('Step: %d, Loss: %f' % (i, loss_val))
    w0_val, w_val = sess.run([w0, w])
    w0_val, w1_val, w2_val = w0_val[0], w_val[0][0], w_val[1][0]
    print(w0_val, w1_val, w2_val)    
    liney = -(w1_val*linex/w2_val + w0_val/w2_val)
    # 2000�� ������ ������ �׷����� ǥ��
    learning_subplot.plot(linex, liney, linewidth=2, label='%d' %(i))
    learning_subplot.legend(loc='upper left')

# loss �迭��  �׷����� ǥ��
iter_subplot.plot(range(len(loss_valarr)), loss_valarr,linewidth=2, label='Error')
iter_subplot.legend(loc='upper left')    

# X1, X2 ��ǥ�� ���� �����͸� ������ ǥ�� - (0,0), (0,1), (1,0), (1,1)
train_set = hstack((train_x, train_t))
df = DataFrame(train_set)
df.columns = ["x1", "x2", "t"]
train_set0 = df[df['t']==0]
train_set1 = df[df['t']==1] 
learning_subplot.scatter(train_set1.x1, train_set1.x2, marker='o')
learning_subplot.scatter(train_set0.x1, train_set0.x2, marker='x')
